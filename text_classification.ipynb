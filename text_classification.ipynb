{
  "nbformat": 4,
  "nbformat_minor": 0,
  "metadata": {
    "colab": {
      "name": "text_classification",
      "provenance": [],
      "collapsed_sections": [],
      "machine_shape": "hm",
      "include_colab_link": true
    },
    "kernelspec": {
      "display_name": "Python 3",
      "language": "python",
      "name": "python3"
    },
    "language_info": {
      "codemirror_mode": {
        "name": "ipython",
        "version": 3
      },
      "file_extension": ".py",
      "mimetype": "text/x-python",
      "name": "python",
      "nbconvert_exporter": "python",
      "pygments_lexer": "ipython3",
      "version": "3.7.9"
    },
    "widgets": {
      "application/vnd.jupyter.widget-state+json": {
        "ff3c32783e484c98a611e2ac37a9cf7f": {
          "model_module": "@jupyter-widgets/controls",
          "model_name": "HBoxModel",
          "state": {
            "_view_name": "HBoxView",
            "_dom_classes": [],
            "_model_name": "HBoxModel",
            "_view_module": "@jupyter-widgets/controls",
            "_model_module_version": "1.5.0",
            "_view_count": null,
            "_view_module_version": "1.5.0",
            "box_style": "",
            "layout": "IPY_MODEL_0e8b3832f27544e89db8a39a427e8693",
            "_model_module": "@jupyter-widgets/controls",
            "children": [
              "IPY_MODEL_7dff1ae4d0b6475e86f40ceb198d3a36",
              "IPY_MODEL_577294ac909b4834aad9b6f2ae44c267"
            ]
          }
        },
        "0e8b3832f27544e89db8a39a427e8693": {
          "model_module": "@jupyter-widgets/base",
          "model_name": "LayoutModel",
          "state": {
            "_view_name": "LayoutView",
            "grid_template_rows": null,
            "right": null,
            "justify_content": null,
            "_view_module": "@jupyter-widgets/base",
            "overflow": null,
            "_model_module_version": "1.2.0",
            "_view_count": null,
            "flex_flow": null,
            "width": null,
            "min_width": null,
            "border": null,
            "align_items": null,
            "bottom": null,
            "_model_module": "@jupyter-widgets/base",
            "top": null,
            "grid_column": null,
            "overflow_y": null,
            "overflow_x": null,
            "grid_auto_flow": null,
            "grid_area": null,
            "grid_template_columns": null,
            "flex": null,
            "_model_name": "LayoutModel",
            "justify_items": null,
            "grid_row": null,
            "max_height": null,
            "align_content": null,
            "visibility": null,
            "align_self": null,
            "height": null,
            "min_height": null,
            "padding": null,
            "grid_auto_rows": null,
            "grid_gap": null,
            "max_width": null,
            "order": null,
            "_view_module_version": "1.2.0",
            "grid_template_areas": null,
            "object_position": null,
            "object_fit": null,
            "grid_auto_columns": null,
            "margin": null,
            "display": null,
            "left": null
          }
        },
        "7dff1ae4d0b6475e86f40ceb198d3a36": {
          "model_module": "@jupyter-widgets/controls",
          "model_name": "FloatProgressModel",
          "state": {
            "_view_name": "ProgressView",
            "style": "IPY_MODEL_2f87851e34fa45399726de0b20ef78e2",
            "_dom_classes": [],
            "description": "Downloading: 100%",
            "_model_name": "FloatProgressModel",
            "bar_style": "success",
            "max": 442,
            "_view_module": "@jupyter-widgets/controls",
            "_model_module_version": "1.5.0",
            "value": 442,
            "_view_count": null,
            "_view_module_version": "1.5.0",
            "orientation": "horizontal",
            "min": 0,
            "description_tooltip": null,
            "_model_module": "@jupyter-widgets/controls",
            "layout": "IPY_MODEL_9c718bdadce448e0a7424a44c2bcc8e2"
          }
        },
        "577294ac909b4834aad9b6f2ae44c267": {
          "model_module": "@jupyter-widgets/controls",
          "model_name": "HTMLModel",
          "state": {
            "_view_name": "HTMLView",
            "style": "IPY_MODEL_c60d64f2b2b54908871b00cab0e4b98e",
            "_dom_classes": [],
            "description": "",
            "_model_name": "HTMLModel",
            "placeholder": "​",
            "_view_module": "@jupyter-widgets/controls",
            "_model_module_version": "1.5.0",
            "value": " 442/442 [24:31&lt;00:00, 3.33s/B]",
            "_view_count": null,
            "_view_module_version": "1.5.0",
            "description_tooltip": null,
            "_model_module": "@jupyter-widgets/controls",
            "layout": "IPY_MODEL_417a7588bc4b4281925a7efdb0e2b6c8"
          }
        },
        "2f87851e34fa45399726de0b20ef78e2": {
          "model_module": "@jupyter-widgets/controls",
          "model_name": "ProgressStyleModel",
          "state": {
            "_view_name": "StyleView",
            "_model_name": "ProgressStyleModel",
            "description_width": "initial",
            "_view_module": "@jupyter-widgets/base",
            "_model_module_version": "1.5.0",
            "_view_count": null,
            "_view_module_version": "1.2.0",
            "bar_color": null,
            "_model_module": "@jupyter-widgets/controls"
          }
        },
        "9c718bdadce448e0a7424a44c2bcc8e2": {
          "model_module": "@jupyter-widgets/base",
          "model_name": "LayoutModel",
          "state": {
            "_view_name": "LayoutView",
            "grid_template_rows": null,
            "right": null,
            "justify_content": null,
            "_view_module": "@jupyter-widgets/base",
            "overflow": null,
            "_model_module_version": "1.2.0",
            "_view_count": null,
            "flex_flow": null,
            "width": null,
            "min_width": null,
            "border": null,
            "align_items": null,
            "bottom": null,
            "_model_module": "@jupyter-widgets/base",
            "top": null,
            "grid_column": null,
            "overflow_y": null,
            "overflow_x": null,
            "grid_auto_flow": null,
            "grid_area": null,
            "grid_template_columns": null,
            "flex": null,
            "_model_name": "LayoutModel",
            "justify_items": null,
            "grid_row": null,
            "max_height": null,
            "align_content": null,
            "visibility": null,
            "align_self": null,
            "height": null,
            "min_height": null,
            "padding": null,
            "grid_auto_rows": null,
            "grid_gap": null,
            "max_width": null,
            "order": null,
            "_view_module_version": "1.2.0",
            "grid_template_areas": null,
            "object_position": null,
            "object_fit": null,
            "grid_auto_columns": null,
            "margin": null,
            "display": null,
            "left": null
          }
        },
        "c60d64f2b2b54908871b00cab0e4b98e": {
          "model_module": "@jupyter-widgets/controls",
          "model_name": "DescriptionStyleModel",
          "state": {
            "_view_name": "StyleView",
            "_model_name": "DescriptionStyleModel",
            "description_width": "",
            "_view_module": "@jupyter-widgets/base",
            "_model_module_version": "1.5.0",
            "_view_count": null,
            "_view_module_version": "1.2.0",
            "_model_module": "@jupyter-widgets/controls"
          }
        },
        "417a7588bc4b4281925a7efdb0e2b6c8": {
          "model_module": "@jupyter-widgets/base",
          "model_name": "LayoutModel",
          "state": {
            "_view_name": "LayoutView",
            "grid_template_rows": null,
            "right": null,
            "justify_content": null,
            "_view_module": "@jupyter-widgets/base",
            "overflow": null,
            "_model_module_version": "1.2.0",
            "_view_count": null,
            "flex_flow": null,
            "width": null,
            "min_width": null,
            "border": null,
            "align_items": null,
            "bottom": null,
            "_model_module": "@jupyter-widgets/base",
            "top": null,
            "grid_column": null,
            "overflow_y": null,
            "overflow_x": null,
            "grid_auto_flow": null,
            "grid_area": null,
            "grid_template_columns": null,
            "flex": null,
            "_model_name": "LayoutModel",
            "justify_items": null,
            "grid_row": null,
            "max_height": null,
            "align_content": null,
            "visibility": null,
            "align_self": null,
            "height": null,
            "min_height": null,
            "padding": null,
            "grid_auto_rows": null,
            "grid_gap": null,
            "max_width": null,
            "order": null,
            "_view_module_version": "1.2.0",
            "grid_template_areas": null,
            "object_position": null,
            "object_fit": null,
            "grid_auto_columns": null,
            "margin": null,
            "display": null,
            "left": null
          }
        },
        "def33426a27f4a1bb4b9b920d35e7713": {
          "model_module": "@jupyter-widgets/controls",
          "model_name": "HBoxModel",
          "state": {
            "_view_name": "HBoxView",
            "_dom_classes": [],
            "_model_name": "HBoxModel",
            "_view_module": "@jupyter-widgets/controls",
            "_model_module_version": "1.5.0",
            "_view_count": null,
            "_view_module_version": "1.5.0",
            "box_style": "",
            "layout": "IPY_MODEL_4b5d924d1e59440cb48611bd7e44f069",
            "_model_module": "@jupyter-widgets/controls",
            "children": [
              "IPY_MODEL_672c03d2b03947879a1bd4b9cd77ad82",
              "IPY_MODEL_87659e31c7a34800ae6286ea1034013e"
            ]
          }
        },
        "4b5d924d1e59440cb48611bd7e44f069": {
          "model_module": "@jupyter-widgets/base",
          "model_name": "LayoutModel",
          "state": {
            "_view_name": "LayoutView",
            "grid_template_rows": null,
            "right": null,
            "justify_content": null,
            "_view_module": "@jupyter-widgets/base",
            "overflow": null,
            "_model_module_version": "1.2.0",
            "_view_count": null,
            "flex_flow": null,
            "width": null,
            "min_width": null,
            "border": null,
            "align_items": null,
            "bottom": null,
            "_model_module": "@jupyter-widgets/base",
            "top": null,
            "grid_column": null,
            "overflow_y": null,
            "overflow_x": null,
            "grid_auto_flow": null,
            "grid_area": null,
            "grid_template_columns": null,
            "flex": null,
            "_model_name": "LayoutModel",
            "justify_items": null,
            "grid_row": null,
            "max_height": null,
            "align_content": null,
            "visibility": null,
            "align_self": null,
            "height": null,
            "min_height": null,
            "padding": null,
            "grid_auto_rows": null,
            "grid_gap": null,
            "max_width": null,
            "order": null,
            "_view_module_version": "1.2.0",
            "grid_template_areas": null,
            "object_position": null,
            "object_fit": null,
            "grid_auto_columns": null,
            "margin": null,
            "display": null,
            "left": null
          }
        },
        "672c03d2b03947879a1bd4b9cd77ad82": {
          "model_module": "@jupyter-widgets/controls",
          "model_name": "FloatProgressModel",
          "state": {
            "_view_name": "ProgressView",
            "style": "IPY_MODEL_578c197a574a4bc6bba1c80340a0cca7",
            "_dom_classes": [],
            "description": "Downloading: 100%",
            "_model_name": "FloatProgressModel",
            "bar_style": "success",
            "max": 231508,
            "_view_module": "@jupyter-widgets/controls",
            "_model_module_version": "1.5.0",
            "value": 231508,
            "_view_count": null,
            "_view_module_version": "1.5.0",
            "orientation": "horizontal",
            "min": 0,
            "description_tooltip": null,
            "_model_module": "@jupyter-widgets/controls",
            "layout": "IPY_MODEL_a70da53e1a5f4be59f5ba5101c80df94"
          }
        },
        "87659e31c7a34800ae6286ea1034013e": {
          "model_module": "@jupyter-widgets/controls",
          "model_name": "HTMLModel",
          "state": {
            "_view_name": "HTMLView",
            "style": "IPY_MODEL_6e9df4e2a3b448db983d2c948249dea8",
            "_dom_classes": [],
            "description": "",
            "_model_name": "HTMLModel",
            "placeholder": "​",
            "_view_module": "@jupyter-widgets/controls",
            "_model_module_version": "1.5.0",
            "value": " 232k/232k [00:02&lt;00:00, 97.9kB/s]",
            "_view_count": null,
            "_view_module_version": "1.5.0",
            "description_tooltip": null,
            "_model_module": "@jupyter-widgets/controls",
            "layout": "IPY_MODEL_3c22005242a748be9f4a63bb4a5dcabc"
          }
        },
        "578c197a574a4bc6bba1c80340a0cca7": {
          "model_module": "@jupyter-widgets/controls",
          "model_name": "ProgressStyleModel",
          "state": {
            "_view_name": "StyleView",
            "_model_name": "ProgressStyleModel",
            "description_width": "initial",
            "_view_module": "@jupyter-widgets/base",
            "_model_module_version": "1.5.0",
            "_view_count": null,
            "_view_module_version": "1.2.0",
            "bar_color": null,
            "_model_module": "@jupyter-widgets/controls"
          }
        },
        "a70da53e1a5f4be59f5ba5101c80df94": {
          "model_module": "@jupyter-widgets/base",
          "model_name": "LayoutModel",
          "state": {
            "_view_name": "LayoutView",
            "grid_template_rows": null,
            "right": null,
            "justify_content": null,
            "_view_module": "@jupyter-widgets/base",
            "overflow": null,
            "_model_module_version": "1.2.0",
            "_view_count": null,
            "flex_flow": null,
            "width": null,
            "min_width": null,
            "border": null,
            "align_items": null,
            "bottom": null,
            "_model_module": "@jupyter-widgets/base",
            "top": null,
            "grid_column": null,
            "overflow_y": null,
            "overflow_x": null,
            "grid_auto_flow": null,
            "grid_area": null,
            "grid_template_columns": null,
            "flex": null,
            "_model_name": "LayoutModel",
            "justify_items": null,
            "grid_row": null,
            "max_height": null,
            "align_content": null,
            "visibility": null,
            "align_self": null,
            "height": null,
            "min_height": null,
            "padding": null,
            "grid_auto_rows": null,
            "grid_gap": null,
            "max_width": null,
            "order": null,
            "_view_module_version": "1.2.0",
            "grid_template_areas": null,
            "object_position": null,
            "object_fit": null,
            "grid_auto_columns": null,
            "margin": null,
            "display": null,
            "left": null
          }
        },
        "6e9df4e2a3b448db983d2c948249dea8": {
          "model_module": "@jupyter-widgets/controls",
          "model_name": "DescriptionStyleModel",
          "state": {
            "_view_name": "StyleView",
            "_model_name": "DescriptionStyleModel",
            "description_width": "",
            "_view_module": "@jupyter-widgets/base",
            "_model_module_version": "1.5.0",
            "_view_count": null,
            "_view_module_version": "1.2.0",
            "_model_module": "@jupyter-widgets/controls"
          }
        },
        "3c22005242a748be9f4a63bb4a5dcabc": {
          "model_module": "@jupyter-widgets/base",
          "model_name": "LayoutModel",
          "state": {
            "_view_name": "LayoutView",
            "grid_template_rows": null,
            "right": null,
            "justify_content": null,
            "_view_module": "@jupyter-widgets/base",
            "overflow": null,
            "_model_module_version": "1.2.0",
            "_view_count": null,
            "flex_flow": null,
            "width": null,
            "min_width": null,
            "border": null,
            "align_items": null,
            "bottom": null,
            "_model_module": "@jupyter-widgets/base",
            "top": null,
            "grid_column": null,
            "overflow_y": null,
            "overflow_x": null,
            "grid_auto_flow": null,
            "grid_area": null,
            "grid_template_columns": null,
            "flex": null,
            "_model_name": "LayoutModel",
            "justify_items": null,
            "grid_row": null,
            "max_height": null,
            "align_content": null,
            "visibility": null,
            "align_self": null,
            "height": null,
            "min_height": null,
            "padding": null,
            "grid_auto_rows": null,
            "grid_gap": null,
            "max_width": null,
            "order": null,
            "_view_module_version": "1.2.0",
            "grid_template_areas": null,
            "object_position": null,
            "object_fit": null,
            "grid_auto_columns": null,
            "margin": null,
            "display": null,
            "left": null
          }
        },
        "c3fde150865b433093679169c76c0189": {
          "model_module": "@jupyter-widgets/controls",
          "model_name": "HBoxModel",
          "state": {
            "_view_name": "HBoxView",
            "_dom_classes": [],
            "_model_name": "HBoxModel",
            "_view_module": "@jupyter-widgets/controls",
            "_model_module_version": "1.5.0",
            "_view_count": null,
            "_view_module_version": "1.5.0",
            "box_style": "",
            "layout": "IPY_MODEL_d86a1ecf44604fae87a732573784a9b9",
            "_model_module": "@jupyter-widgets/controls",
            "children": [
              "IPY_MODEL_ae8ddda07f7741f298d370a03787f0d7",
              "IPY_MODEL_a163079e7800455e85db333b2b40f5f4"
            ]
          }
        },
        "d86a1ecf44604fae87a732573784a9b9": {
          "model_module": "@jupyter-widgets/base",
          "model_name": "LayoutModel",
          "state": {
            "_view_name": "LayoutView",
            "grid_template_rows": null,
            "right": null,
            "justify_content": null,
            "_view_module": "@jupyter-widgets/base",
            "overflow": null,
            "_model_module_version": "1.2.0",
            "_view_count": null,
            "flex_flow": null,
            "width": null,
            "min_width": null,
            "border": null,
            "align_items": null,
            "bottom": null,
            "_model_module": "@jupyter-widgets/base",
            "top": null,
            "grid_column": null,
            "overflow_y": null,
            "overflow_x": null,
            "grid_auto_flow": null,
            "grid_area": null,
            "grid_template_columns": null,
            "flex": null,
            "_model_name": "LayoutModel",
            "justify_items": null,
            "grid_row": null,
            "max_height": null,
            "align_content": null,
            "visibility": null,
            "align_self": null,
            "height": null,
            "min_height": null,
            "padding": null,
            "grid_auto_rows": null,
            "grid_gap": null,
            "max_width": null,
            "order": null,
            "_view_module_version": "1.2.0",
            "grid_template_areas": null,
            "object_position": null,
            "object_fit": null,
            "grid_auto_columns": null,
            "margin": null,
            "display": null,
            "left": null
          }
        },
        "ae8ddda07f7741f298d370a03787f0d7": {
          "model_module": "@jupyter-widgets/controls",
          "model_name": "FloatProgressModel",
          "state": {
            "_view_name": "ProgressView",
            "style": "IPY_MODEL_8b7bca2928b84a5aa24081b5489d8f7f",
            "_dom_classes": [],
            "description": "Downloading: 100%",
            "_model_name": "FloatProgressModel",
            "bar_style": "success",
            "max": 466062,
            "_view_module": "@jupyter-widgets/controls",
            "_model_module_version": "1.5.0",
            "value": 466062,
            "_view_count": null,
            "_view_module_version": "1.5.0",
            "orientation": "horizontal",
            "min": 0,
            "description_tooltip": null,
            "_model_module": "@jupyter-widgets/controls",
            "layout": "IPY_MODEL_2ac8fda72119401687ce0f1fb7f70365"
          }
        },
        "a163079e7800455e85db333b2b40f5f4": {
          "model_module": "@jupyter-widgets/controls",
          "model_name": "HTMLModel",
          "state": {
            "_view_name": "HTMLView",
            "style": "IPY_MODEL_3e6fc27138674d3788ba6e2a08c9f8df",
            "_dom_classes": [],
            "description": "",
            "_model_name": "HTMLModel",
            "placeholder": "​",
            "_view_module": "@jupyter-widgets/controls",
            "_model_module_version": "1.5.0",
            "value": " 466k/466k [24:27&lt;00:00, 317B/s]",
            "_view_count": null,
            "_view_module_version": "1.5.0",
            "description_tooltip": null,
            "_model_module": "@jupyter-widgets/controls",
            "layout": "IPY_MODEL_86aaec8517db4f189597e90b0588a24f"
          }
        },
        "8b7bca2928b84a5aa24081b5489d8f7f": {
          "model_module": "@jupyter-widgets/controls",
          "model_name": "ProgressStyleModel",
          "state": {
            "_view_name": "StyleView",
            "_model_name": "ProgressStyleModel",
            "description_width": "initial",
            "_view_module": "@jupyter-widgets/base",
            "_model_module_version": "1.5.0",
            "_view_count": null,
            "_view_module_version": "1.2.0",
            "bar_color": null,
            "_model_module": "@jupyter-widgets/controls"
          }
        },
        "2ac8fda72119401687ce0f1fb7f70365": {
          "model_module": "@jupyter-widgets/base",
          "model_name": "LayoutModel",
          "state": {
            "_view_name": "LayoutView",
            "grid_template_rows": null,
            "right": null,
            "justify_content": null,
            "_view_module": "@jupyter-widgets/base",
            "overflow": null,
            "_model_module_version": "1.2.0",
            "_view_count": null,
            "flex_flow": null,
            "width": null,
            "min_width": null,
            "border": null,
            "align_items": null,
            "bottom": null,
            "_model_module": "@jupyter-widgets/base",
            "top": null,
            "grid_column": null,
            "overflow_y": null,
            "overflow_x": null,
            "grid_auto_flow": null,
            "grid_area": null,
            "grid_template_columns": null,
            "flex": null,
            "_model_name": "LayoutModel",
            "justify_items": null,
            "grid_row": null,
            "max_height": null,
            "align_content": null,
            "visibility": null,
            "align_self": null,
            "height": null,
            "min_height": null,
            "padding": null,
            "grid_auto_rows": null,
            "grid_gap": null,
            "max_width": null,
            "order": null,
            "_view_module_version": "1.2.0",
            "grid_template_areas": null,
            "object_position": null,
            "object_fit": null,
            "grid_auto_columns": null,
            "margin": null,
            "display": null,
            "left": null
          }
        },
        "3e6fc27138674d3788ba6e2a08c9f8df": {
          "model_module": "@jupyter-widgets/controls",
          "model_name": "DescriptionStyleModel",
          "state": {
            "_view_name": "StyleView",
            "_model_name": "DescriptionStyleModel",
            "description_width": "",
            "_view_module": "@jupyter-widgets/base",
            "_model_module_version": "1.5.0",
            "_view_count": null,
            "_view_module_version": "1.2.0",
            "_model_module": "@jupyter-widgets/controls"
          }
        },
        "86aaec8517db4f189597e90b0588a24f": {
          "model_module": "@jupyter-widgets/base",
          "model_name": "LayoutModel",
          "state": {
            "_view_name": "LayoutView",
            "grid_template_rows": null,
            "right": null,
            "justify_content": null,
            "_view_module": "@jupyter-widgets/base",
            "overflow": null,
            "_model_module_version": "1.2.0",
            "_view_count": null,
            "flex_flow": null,
            "width": null,
            "min_width": null,
            "border": null,
            "align_items": null,
            "bottom": null,
            "_model_module": "@jupyter-widgets/base",
            "top": null,
            "grid_column": null,
            "overflow_y": null,
            "overflow_x": null,
            "grid_auto_flow": null,
            "grid_area": null,
            "grid_template_columns": null,
            "flex": null,
            "_model_name": "LayoutModel",
            "justify_items": null,
            "grid_row": null,
            "max_height": null,
            "align_content": null,
            "visibility": null,
            "align_self": null,
            "height": null,
            "min_height": null,
            "padding": null,
            "grid_auto_rows": null,
            "grid_gap": null,
            "max_width": null,
            "order": null,
            "_view_module_version": "1.2.0",
            "grid_template_areas": null,
            "object_position": null,
            "object_fit": null,
            "grid_auto_columns": null,
            "margin": null,
            "display": null,
            "left": null
          }
        },
        "90312f7cd0da437d8c8ec14e491b370b": {
          "model_module": "@jupyter-widgets/controls",
          "model_name": "HBoxModel",
          "state": {
            "_view_name": "HBoxView",
            "_dom_classes": [],
            "_model_name": "HBoxModel",
            "_view_module": "@jupyter-widgets/controls",
            "_model_module_version": "1.5.0",
            "_view_count": null,
            "_view_module_version": "1.5.0",
            "box_style": "",
            "layout": "IPY_MODEL_183d3fd86f2b4205a850944d81d67f34",
            "_model_module": "@jupyter-widgets/controls",
            "children": [
              "IPY_MODEL_26377bf6102c472db98dc925bfb1ffad",
              "IPY_MODEL_2a86f3954239412fa297ff18ab9ef34f"
            ]
          }
        },
        "183d3fd86f2b4205a850944d81d67f34": {
          "model_module": "@jupyter-widgets/base",
          "model_name": "LayoutModel",
          "state": {
            "_view_name": "LayoutView",
            "grid_template_rows": null,
            "right": null,
            "justify_content": null,
            "_view_module": "@jupyter-widgets/base",
            "overflow": null,
            "_model_module_version": "1.2.0",
            "_view_count": null,
            "flex_flow": null,
            "width": null,
            "min_width": null,
            "border": null,
            "align_items": null,
            "bottom": null,
            "_model_module": "@jupyter-widgets/base",
            "top": null,
            "grid_column": null,
            "overflow_y": null,
            "overflow_x": null,
            "grid_auto_flow": null,
            "grid_area": null,
            "grid_template_columns": null,
            "flex": null,
            "_model_name": "LayoutModel",
            "justify_items": null,
            "grid_row": null,
            "max_height": null,
            "align_content": null,
            "visibility": null,
            "align_self": null,
            "height": null,
            "min_height": null,
            "padding": null,
            "grid_auto_rows": null,
            "grid_gap": null,
            "max_width": null,
            "order": null,
            "_view_module_version": "1.2.0",
            "grid_template_areas": null,
            "object_position": null,
            "object_fit": null,
            "grid_auto_columns": null,
            "margin": null,
            "display": null,
            "left": null
          }
        },
        "26377bf6102c472db98dc925bfb1ffad": {
          "model_module": "@jupyter-widgets/controls",
          "model_name": "FloatProgressModel",
          "state": {
            "_view_name": "ProgressView",
            "style": "IPY_MODEL_55b2fcb79fb349f9ab5e743707f17492",
            "_dom_classes": [],
            "description": "Downloading: 100%",
            "_model_name": "FloatProgressModel",
            "bar_style": "success",
            "max": 28,
            "_view_module": "@jupyter-widgets/controls",
            "_model_module_version": "1.5.0",
            "value": 28,
            "_view_count": null,
            "_view_module_version": "1.5.0",
            "orientation": "horizontal",
            "min": 0,
            "description_tooltip": null,
            "_model_module": "@jupyter-widgets/controls",
            "layout": "IPY_MODEL_a878b2373b124522aa6e3e84b5cb2948"
          }
        },
        "2a86f3954239412fa297ff18ab9ef34f": {
          "model_module": "@jupyter-widgets/controls",
          "model_name": "HTMLModel",
          "state": {
            "_view_name": "HTMLView",
            "style": "IPY_MODEL_f8c0888ce24f4f06a8349ad9dc9dbe5d",
            "_dom_classes": [],
            "description": "",
            "_model_name": "HTMLModel",
            "placeholder": "​",
            "_view_module": "@jupyter-widgets/controls",
            "_model_module_version": "1.5.0",
            "value": " 28.0/28.0 [00:00&lt;00:00, 342B/s]",
            "_view_count": null,
            "_view_module_version": "1.5.0",
            "description_tooltip": null,
            "_model_module": "@jupyter-widgets/controls",
            "layout": "IPY_MODEL_414b3082d8864398b896ffcb4e8507ac"
          }
        },
        "55b2fcb79fb349f9ab5e743707f17492": {
          "model_module": "@jupyter-widgets/controls",
          "model_name": "ProgressStyleModel",
          "state": {
            "_view_name": "StyleView",
            "_model_name": "ProgressStyleModel",
            "description_width": "initial",
            "_view_module": "@jupyter-widgets/base",
            "_model_module_version": "1.5.0",
            "_view_count": null,
            "_view_module_version": "1.2.0",
            "bar_color": null,
            "_model_module": "@jupyter-widgets/controls"
          }
        },
        "a878b2373b124522aa6e3e84b5cb2948": {
          "model_module": "@jupyter-widgets/base",
          "model_name": "LayoutModel",
          "state": {
            "_view_name": "LayoutView",
            "grid_template_rows": null,
            "right": null,
            "justify_content": null,
            "_view_module": "@jupyter-widgets/base",
            "overflow": null,
            "_model_module_version": "1.2.0",
            "_view_count": null,
            "flex_flow": null,
            "width": null,
            "min_width": null,
            "border": null,
            "align_items": null,
            "bottom": null,
            "_model_module": "@jupyter-widgets/base",
            "top": null,
            "grid_column": null,
            "overflow_y": null,
            "overflow_x": null,
            "grid_auto_flow": null,
            "grid_area": null,
            "grid_template_columns": null,
            "flex": null,
            "_model_name": "LayoutModel",
            "justify_items": null,
            "grid_row": null,
            "max_height": null,
            "align_content": null,
            "visibility": null,
            "align_self": null,
            "height": null,
            "min_height": null,
            "padding": null,
            "grid_auto_rows": null,
            "grid_gap": null,
            "max_width": null,
            "order": null,
            "_view_module_version": "1.2.0",
            "grid_template_areas": null,
            "object_position": null,
            "object_fit": null,
            "grid_auto_columns": null,
            "margin": null,
            "display": null,
            "left": null
          }
        },
        "f8c0888ce24f4f06a8349ad9dc9dbe5d": {
          "model_module": "@jupyter-widgets/controls",
          "model_name": "DescriptionStyleModel",
          "state": {
            "_view_name": "StyleView",
            "_model_name": "DescriptionStyleModel",
            "description_width": "",
            "_view_module": "@jupyter-widgets/base",
            "_model_module_version": "1.5.0",
            "_view_count": null,
            "_view_module_version": "1.2.0",
            "_model_module": "@jupyter-widgets/controls"
          }
        },
        "414b3082d8864398b896ffcb4e8507ac": {
          "model_module": "@jupyter-widgets/base",
          "model_name": "LayoutModel",
          "state": {
            "_view_name": "LayoutView",
            "grid_template_rows": null,
            "right": null,
            "justify_content": null,
            "_view_module": "@jupyter-widgets/base",
            "overflow": null,
            "_model_module_version": "1.2.0",
            "_view_count": null,
            "flex_flow": null,
            "width": null,
            "min_width": null,
            "border": null,
            "align_items": null,
            "bottom": null,
            "_model_module": "@jupyter-widgets/base",
            "top": null,
            "grid_column": null,
            "overflow_y": null,
            "overflow_x": null,
            "grid_auto_flow": null,
            "grid_area": null,
            "grid_template_columns": null,
            "flex": null,
            "_model_name": "LayoutModel",
            "justify_items": null,
            "grid_row": null,
            "max_height": null,
            "align_content": null,
            "visibility": null,
            "align_self": null,
            "height": null,
            "min_height": null,
            "padding": null,
            "grid_auto_rows": null,
            "grid_gap": null,
            "max_width": null,
            "order": null,
            "_view_module_version": "1.2.0",
            "grid_template_areas": null,
            "object_position": null,
            "object_fit": null,
            "grid_auto_columns": null,
            "margin": null,
            "display": null,
            "left": null
          }
        }
      }
    },
    "accelerator": "GPU"
  },
  "cells": [
    {
      "cell_type": "markdown",
      "metadata": {
        "id": "view-in-github",
        "colab_type": "text"
      },
      "source": [
        "<a href=\"https://colab.research.google.com/github/shikha-aggarwal/researchpaperlikes/blob/main/text_classification.ipynb\" target=\"_parent\"><img src=\"https://colab.research.google.com/assets/colab-badge.svg\" alt=\"Open In Colab\"/></a>"
      ]
    },
    {
      "cell_type": "code",
      "metadata": {
        "id": "MOsHUjgdIrIW"
      },
      "source": [
        "! pip install datasets transformers pytorch-lightning"
      ],
      "execution_count": null,
      "outputs": []
    },
    {
      "cell_type": "code",
      "metadata": {
        "id": "ul82czF7JjdF"
      },
      "source": [
        "import torch\n",
        "import pytorch_lightning as pl\n",
        "from pytorch_lightning.loggers import TensorBoardLogger\n",
        "\n",
        "import transformers\n",
        "\n",
        "from datasets import (\n",
        "    list_datasets,\n",
        "    load_dataset,\n",
        "    list_metrics,\n",
        "    load_metric)\n",
        "\n",
        "import json\n",
        "import os\n",
        "import re\n",
        "import argparse\n",
        "import random\n",
        "import time\n",
        "import string\n",
        "import numpy as np\n",
        "\n",
        "from torch.utils.data import Dataset, DataLoader\n",
        "from torch.utils.data import RandomSampler\n",
        "\n",
        "import matplotlib.pyplot as plt\n",
        "\n",
        "## Colab accessing Google drive\n",
        "from google.colab import drive"
      ],
      "execution_count": 32,
      "outputs": []
    },
    {
      "cell_type": "code",
      "metadata": {
        "colab": {
          "base_uri": "https://localhost:8080/"
        },
        "id": "aKe-RHVQJrj6",
        "outputId": "7f3447f4-a347-47ff-fb62-50f77116fb87"
      },
      "source": [
        "drive.mount('/content/drive')"
      ],
      "execution_count": 33,
      "outputs": [
        {
          "output_type": "stream",
          "text": [
            "Drive already mounted at /content/drive; to attempt to forcibly remount, call drive.mount(\"/content/drive\", force_remount=True).\n"
          ],
          "name": "stdout"
        }
      ]
    },
    {
      "cell_type": "code",
      "metadata": {
        "colab": {
          "base_uri": "https://localhost:8080/"
        },
        "id": "TUInUI_GJ0PR",
        "outputId": "aa0770a3-fc87-4d98-c744-f0b953d8f889"
      },
      "source": [
        "cd /content/drive/MyDrive/Colab\\ Notebooks/research\\ paper"
      ],
      "execution_count": 34,
      "outputs": [
        {
          "output_type": "stream",
          "text": [
            "/content/drive/MyDrive/Colab Notebooks/research paper\n"
          ],
          "name": "stdout"
        }
      ]
    },
    {
      "cell_type": "code",
      "metadata": {
        "id": "zVvslsfMIrIh"
      },
      "source": [
        "model_checkpoint = \"distilbert-base-uncased\"\n",
        "batch_size = 16"
      ],
      "execution_count": 35,
      "outputs": []
    },
    {
      "cell_type": "markdown",
      "metadata": {
        "id": "whPRbBNbIrIl"
      },
      "source": [
        "## Loading the dataset"
      ]
    },
    {
      "cell_type": "code",
      "metadata": {
        "id": "IreSlFmlIrIm"
      },
      "source": [
        "from datasets import load_dataset\n",
        "from ml_project.data_loaders import load_data"
      ],
      "execution_count": 36,
      "outputs": []
    },
    {
      "cell_type": "code",
      "metadata": {
        "id": "Rsm-EaDnKFp_"
      },
      "source": [
        "data_dir = './data'\n",
        "tags_list = load_data.load_tags(data_dir)\n",
        "article_tags_2d_list = load_data.load_article_tags(data_dir)\n",
        "# citations_2d_np = load_data.load_citations(data_dir, num_articles = )\n",
        "user_items_2d_np = load_data.load_user_article_likes(data_dir)\n",
        "articles_df, user_article_likes_2d_np = load_data.load_articles_and_user_article_likes(data_dir)"
      ],
      "execution_count": 37,
      "outputs": []
    },
    {
      "cell_type": "code",
      "metadata": {
        "colab": {
          "base_uri": "https://localhost:8080/"
        },
        "id": "bVaXyoUiOuth",
        "outputId": "b5968c8e-e5aa-4fd4-8573-f27cdd0869e8"
      },
      "source": [
        "articles_df.columns"
      ],
      "execution_count": 38,
      "outputs": [
        {
          "output_type": "execute_result",
          "data": {
            "text/plain": [
              "Index(['doc.id', 'title', 'citeulike.id', 'raw.title', 'raw.abstract'], dtype='object')"
            ]
          },
          "metadata": {
            "tags": []
          },
          "execution_count": 38
        }
      ]
    },
    {
      "cell_type": "code",
      "metadata": {
        "id": "EePl8iGEOw6x"
      },
      "source": [
        "articles_df.rename(columns = {'citeulike.id':'citeulike_id', 'doc.id': 'doc_id', 'raw.title': 'raw_title', 'raw.abstract': 'raw_abstract'}, inplace = True)"
      ],
      "execution_count": 39,
      "outputs": []
    },
    {
      "cell_type": "code",
      "metadata": {
        "colab": {
          "base_uri": "https://localhost:8080/",
          "height": 204
        },
        "id": "YMKtyYr8OzLl",
        "outputId": "826134b7-6d07-4dcb-910d-795eb0bfc5b0"
      },
      "source": [
        "articles_df.head()"
      ],
      "execution_count": 40,
      "outputs": [
        {
          "output_type": "execute_result",
          "data": {
            "text/html": [
              "<div>\n",
              "<style scoped>\n",
              "    .dataframe tbody tr th:only-of-type {\n",
              "        vertical-align: middle;\n",
              "    }\n",
              "\n",
              "    .dataframe tbody tr th {\n",
              "        vertical-align: top;\n",
              "    }\n",
              "\n",
              "    .dataframe thead th {\n",
              "        text-align: right;\n",
              "    }\n",
              "</style>\n",
              "<table border=\"1\" class=\"dataframe\">\n",
              "  <thead>\n",
              "    <tr style=\"text-align: right;\">\n",
              "      <th></th>\n",
              "      <th>doc_id</th>\n",
              "      <th>title</th>\n",
              "      <th>citeulike_id</th>\n",
              "      <th>raw_title</th>\n",
              "      <th>raw_abstract</th>\n",
              "    </tr>\n",
              "  </thead>\n",
              "  <tbody>\n",
              "    <tr>\n",
              "      <th>0</th>\n",
              "      <td>1</td>\n",
              "      <td>the metabolic world of escherichia coli is not...</td>\n",
              "      <td>42.0</td>\n",
              "      <td>The metabolic world of Escherichia coli is not...</td>\n",
              "      <td>To elucidate the organizational and evolutiona...</td>\n",
              "    </tr>\n",
              "    <tr>\n",
              "      <th>1</th>\n",
              "      <td>2</td>\n",
              "      <td>reverse engineering of biological complexity</td>\n",
              "      <td>43.0</td>\n",
              "      <td>Reverse Engineering of Biological Complexity</td>\n",
              "      <td>Advanced technologies and biology have extreme...</td>\n",
              "    </tr>\n",
              "    <tr>\n",
              "      <th>2</th>\n",
              "      <td>3</td>\n",
              "      <td>exploring complex networks</td>\n",
              "      <td>44.0</td>\n",
              "      <td>Exploring complex networks</td>\n",
              "      <td>The study of networks pervades all of science,...</td>\n",
              "    </tr>\n",
              "    <tr>\n",
              "      <th>3</th>\n",
              "      <td>4</td>\n",
              "      <td>comparative assessment of largescale data sets...</td>\n",
              "      <td>46.0</td>\n",
              "      <td>Comparative assessment of large-scale data set...</td>\n",
              "      <td>Comprehensive protein protein interaction maps...</td>\n",
              "    </tr>\n",
              "    <tr>\n",
              "      <th>4</th>\n",
              "      <td>5</td>\n",
              "      <td>navigation in a small world</td>\n",
              "      <td>47.0</td>\n",
              "      <td>Navigation in a small world</td>\n",
              "      <td>The small-world phenomenon â the principle t...</td>\n",
              "    </tr>\n",
              "  </tbody>\n",
              "</table>\n",
              "</div>"
            ],
            "text/plain": [
              "   doc_id  ...                                       raw_abstract\n",
              "0       1  ...  To elucidate the organizational and evolutiona...\n",
              "1       2  ...  Advanced technologies and biology have extreme...\n",
              "2       3  ...  The study of networks pervades all of science,...\n",
              "3       4  ...  Comprehensive protein protein interaction maps...\n",
              "4       5  ...  The small-world phenomenon â the principle t...\n",
              "\n",
              "[5 rows x 5 columns]"
            ]
          },
          "metadata": {
            "tags": []
          },
          "execution_count": 40
        }
      ]
    },
    {
      "cell_type": "code",
      "metadata": {
        "colab": {
          "base_uri": "https://localhost:8080/"
        },
        "id": "QCtuuaYNPDhy",
        "outputId": "1cc59ddc-1c01-48ca-f694-820fcaf388f6"
      },
      "source": [
        "articles_df.iloc[10].to_dict()"
      ],
      "execution_count": 41,
      "outputs": [
        {
          "output_type": "execute_result",
          "data": {
            "text/plain": [
              "{'citeulike_id': 61.0,\n",
              " 'doc_id': 11,\n",
              " 'raw_abstract': ' Recent research has revealed general principles in the structural and functional organization of complex networks which are shared by various natural, social and technological systems. This review examines these principles as applied to the organization, development and function of complex brain networks. Specifically, we examine the structural properties of large-scale anatomical and functional brain networks and discuss how they might arise in the course of network growth and rewiring. Moreover, we examine the relationship between the structural substrate of neuroanatomy and more dynamic functional and effective connectivity patterns that underlie human cognition. We suggest that network analysis offers new fundamental insights into global and integrative aspects of brain function, including the origin of flexible and coherent cognitive states within the neural architecture.',\n",
              " 'raw_title': 'Organization, development and function of complex brain networks',\n",
              " 'title': 'organization development and function of complex brain networks'}"
            ]
          },
          "metadata": {
            "tags": []
          },
          "execution_count": 41
        }
      ]
    },
    {
      "cell_type": "code",
      "metadata": {
        "colab": {
          "base_uri": "https://localhost:8080/"
        },
        "id": "IHNsLdVgcitB",
        "outputId": "f2a031f6-adaa-46e1-c526-5e0d7768d980"
      },
      "source": [
        "user_article_likes_2d_np.shape ## num_users * num_articles [less articles here because new articles added?]"
      ],
      "execution_count": 50,
      "outputs": [
        {
          "output_type": "execute_result",
          "data": {
            "text/plain": [
              "(5551, 13584)"
            ]
          },
          "metadata": {
            "tags": []
          },
          "execution_count": 50
        }
      ]
    },
    {
      "cell_type": "code",
      "metadata": {
        "colab": {
          "base_uri": "https://localhost:8080/"
        },
        "id": "mT5KTtlvftgW",
        "outputId": "63ce89f9-d927-4caf-94c4-74d7abb9f208"
      },
      "source": [
        "articles_df.shape"
      ],
      "execution_count": 46,
      "outputs": [
        {
          "output_type": "execute_result",
          "data": {
            "text/plain": [
              "(16980, 5)"
            ]
          },
          "metadata": {
            "tags": []
          },
          "execution_count": 46
        }
      ]
    },
    {
      "cell_type": "code",
      "metadata": {
        "id": "GOydXR-mgfZb"
      },
      "source": [
        "articles_df[\"tags\"] = article_tags_2d_list"
      ],
      "execution_count": 47,
      "outputs": []
    },
    {
      "cell_type": "code",
      "metadata": {
        "colab": {
          "base_uri": "https://localhost:8080/",
          "height": 289
        },
        "id": "DtuAOJgpcti1",
        "outputId": "b577395a-66d8-4fda-d225-c33220cde20c"
      },
      "source": [
        "articles_df.head()"
      ],
      "execution_count": 49,
      "outputs": [
        {
          "output_type": "execute_result",
          "data": {
            "text/html": [
              "<div>\n",
              "<style scoped>\n",
              "    .dataframe tbody tr th:only-of-type {\n",
              "        vertical-align: middle;\n",
              "    }\n",
              "\n",
              "    .dataframe tbody tr th {\n",
              "        vertical-align: top;\n",
              "    }\n",
              "\n",
              "    .dataframe thead th {\n",
              "        text-align: right;\n",
              "    }\n",
              "</style>\n",
              "<table border=\"1\" class=\"dataframe\">\n",
              "  <thead>\n",
              "    <tr style=\"text-align: right;\">\n",
              "      <th></th>\n",
              "      <th>doc_id</th>\n",
              "      <th>title</th>\n",
              "      <th>citeulike_id</th>\n",
              "      <th>raw_title</th>\n",
              "      <th>raw_abstract</th>\n",
              "      <th>tags</th>\n",
              "    </tr>\n",
              "  </thead>\n",
              "  <tbody>\n",
              "    <tr>\n",
              "      <th>0</th>\n",
              "      <td>1</td>\n",
              "      <td>the metabolic world of escherichia coli is not...</td>\n",
              "      <td>42.0</td>\n",
              "      <td>The metabolic world of Escherichia coli is not...</td>\n",
              "      <td>To elucidate the organizational and evolutiona...</td>\n",
              "      <td>[4276, 32443, 37837, 3378, 7650, 44590, 42810,...</td>\n",
              "    </tr>\n",
              "    <tr>\n",
              "      <th>1</th>\n",
              "      <td>2</td>\n",
              "      <td>reverse engineering of biological complexity</td>\n",
              "      <td>43.0</td>\n",
              "      <td>Reverse Engineering of Biological Complexity</td>\n",
              "      <td>Advanced technologies and biology have extreme...</td>\n",
              "      <td>[40070, 39891, 9827, 39406, 45156, 20392, 1831...</td>\n",
              "    </tr>\n",
              "    <tr>\n",
              "      <th>2</th>\n",
              "      <td>3</td>\n",
              "      <td>exploring complex networks</td>\n",
              "      <td>44.0</td>\n",
              "      <td>Exploring complex networks</td>\n",
              "      <td>The study of networks pervades all of science,...</td>\n",
              "      <td>[35531, 33478, 46208, 24430, 13634, 30698, 314...</td>\n",
              "    </tr>\n",
              "    <tr>\n",
              "      <th>3</th>\n",
              "      <td>4</td>\n",
              "      <td>comparative assessment of largescale data sets...</td>\n",
              "      <td>46.0</td>\n",
              "      <td>Comparative assessment of large-scale data set...</td>\n",
              "      <td>Comprehensive protein protein interaction maps...</td>\n",
              "      <td>[2383, 36288, 43395, 41495, 9102, 35490, 1858,...</td>\n",
              "    </tr>\n",
              "    <tr>\n",
              "      <th>4</th>\n",
              "      <td>5</td>\n",
              "      <td>navigation in a small world</td>\n",
              "      <td>47.0</td>\n",
              "      <td>Navigation in a small world</td>\n",
              "      <td>The small-world phenomenon â the principle t...</td>\n",
              "      <td>[30816, 24430, 40491, 32766, 20309, 1223, 3069...</td>\n",
              "    </tr>\n",
              "  </tbody>\n",
              "</table>\n",
              "</div>"
            ],
            "text/plain": [
              "   doc_id  ...                                               tags\n",
              "0       1  ...  [4276, 32443, 37837, 3378, 7650, 44590, 42810,...\n",
              "1       2  ...  [40070, 39891, 9827, 39406, 45156, 20392, 1831...\n",
              "2       3  ...  [35531, 33478, 46208, 24430, 13634, 30698, 314...\n",
              "3       4  ...  [2383, 36288, 43395, 41495, 9102, 35490, 1858,...\n",
              "4       5  ...  [30816, 24430, 40491, 32766, 20309, 1223, 3069...\n",
              "\n",
              "[5 rows x 6 columns]"
            ]
          },
          "metadata": {
            "tags": []
          },
          "execution_count": 49
        }
      ]
    },
    {
      "cell_type": "code",
      "metadata": {
        "id": "869WmizMRJWa"
      },
      "source": [
        "train_df, validate_df, test_df = np.split(articles_df.sample(frac=1, random_state=42), \n",
        "                       [int(.6*len(articles_df)), int(.8*len(articles_df))])"
      ],
      "execution_count": 71,
      "outputs": []
    },
    {
      "cell_type": "code",
      "metadata": {
        "colab": {
          "base_uri": "https://localhost:8080/",
          "height": 213,
          "referenced_widgets": [
            "ff3c32783e484c98a611e2ac37a9cf7f",
            "0e8b3832f27544e89db8a39a427e8693",
            "7dff1ae4d0b6475e86f40ceb198d3a36",
            "577294ac909b4834aad9b6f2ae44c267",
            "2f87851e34fa45399726de0b20ef78e2",
            "9c718bdadce448e0a7424a44c2bcc8e2",
            "c60d64f2b2b54908871b00cab0e4b98e",
            "417a7588bc4b4281925a7efdb0e2b6c8",
            "def33426a27f4a1bb4b9b920d35e7713",
            "4b5d924d1e59440cb48611bd7e44f069",
            "672c03d2b03947879a1bd4b9cd77ad82",
            "87659e31c7a34800ae6286ea1034013e",
            "578c197a574a4bc6bba1c80340a0cca7",
            "a70da53e1a5f4be59f5ba5101c80df94",
            "6e9df4e2a3b448db983d2c948249dea8",
            "3c22005242a748be9f4a63bb4a5dcabc",
            "c3fde150865b433093679169c76c0189",
            "d86a1ecf44604fae87a732573784a9b9",
            "ae8ddda07f7741f298d370a03787f0d7",
            "a163079e7800455e85db333b2b40f5f4",
            "8b7bca2928b84a5aa24081b5489d8f7f",
            "2ac8fda72119401687ce0f1fb7f70365",
            "3e6fc27138674d3788ba6e2a08c9f8df",
            "86aaec8517db4f189597e90b0588a24f",
            "90312f7cd0da437d8c8ec14e491b370b",
            "183d3fd86f2b4205a850944d81d67f34",
            "26377bf6102c472db98dc925bfb1ffad",
            "2a86f3954239412fa297ff18ab9ef34f",
            "55b2fcb79fb349f9ab5e743707f17492",
            "a878b2373b124522aa6e3e84b5cb2948",
            "f8c0888ce24f4f06a8349ad9dc9dbe5d",
            "414b3082d8864398b896ffcb4e8507ac"
          ]
        },
        "id": "_n2gkLHVVhuc",
        "outputId": "6af540f2-fd28-4a81-ba8e-b5b4afe248b4"
      },
      "source": [
        "from transformers import AutoTokenizer\n",
        "    \n",
        "tokenizer = AutoTokenizer.from_pretrained(model_checkpoint, use_fast=True)\n",
        "input_length = 100"
      ],
      "execution_count": null,
      "outputs": [
        {
          "output_type": "display_data",
          "data": {
            "application/vnd.jupyter.widget-view+json": {
              "model_id": "ff3c32783e484c98a611e2ac37a9cf7f",
              "version_minor": 0,
              "version_major": 2
            },
            "text/plain": [
              "HBox(children=(FloatProgress(value=0.0, description='Downloading', max=442.0, style=ProgressStyle(description_…"
            ]
          },
          "metadata": {
            "tags": []
          }
        },
        {
          "output_type": "stream",
          "text": [
            "\n"
          ],
          "name": "stdout"
        },
        {
          "output_type": "display_data",
          "data": {
            "application/vnd.jupyter.widget-view+json": {
              "model_id": "def33426a27f4a1bb4b9b920d35e7713",
              "version_minor": 0,
              "version_major": 2
            },
            "text/plain": [
              "HBox(children=(FloatProgress(value=0.0, description='Downloading', max=231508.0, style=ProgressStyle(descripti…"
            ]
          },
          "metadata": {
            "tags": []
          }
        },
        {
          "output_type": "stream",
          "text": [
            "\n"
          ],
          "name": "stdout"
        },
        {
          "output_type": "display_data",
          "data": {
            "application/vnd.jupyter.widget-view+json": {
              "model_id": "c3fde150865b433093679169c76c0189",
              "version_minor": 0,
              "version_major": 2
            },
            "text/plain": [
              "HBox(children=(FloatProgress(value=0.0, description='Downloading', max=466062.0, style=ProgressStyle(descripti…"
            ]
          },
          "metadata": {
            "tags": []
          }
        },
        {
          "output_type": "stream",
          "text": [
            "\n"
          ],
          "name": "stdout"
        },
        {
          "output_type": "display_data",
          "data": {
            "application/vnd.jupyter.widget-view+json": {
              "model_id": "90312f7cd0da437d8c8ec14e491b370b",
              "version_minor": 0,
              "version_major": 2
            },
            "text/plain": [
              "HBox(children=(FloatProgress(value=0.0, description='Downloading', max=28.0, style=ProgressStyle(description_w…"
            ]
          },
          "metadata": {
            "tags": []
          }
        },
        {
          "output_type": "stream",
          "text": [
            "\n"
          ],
          "name": "stdout"
        }
      ]
    },
    {
      "cell_type": "code",
      "metadata": {
        "colab": {
          "base_uri": "https://localhost:8080/"
        },
        "id": "29yaif8soMId",
        "outputId": "31bef292-9716-410b-f2fa-e0ee1dc17d7b"
      },
      "source": [
        "len(tags_list)"
      ],
      "execution_count": 92,
      "outputs": [
        {
          "output_type": "execute_result",
          "data": {
            "text/plain": [
              "46391"
            ]
          },
          "metadata": {
            "tags": []
          },
          "execution_count": 92
        }
      ]
    },
    {
      "cell_type": "code",
      "metadata": {
        "id": "4nkigcuGQued"
      },
      "source": [
        "class ArticlesDataset(Dataset):\n",
        "    def __init__(self, df, tokenizer, input_length):\n",
        "        self.pandas_df = df\n",
        "        self.tokenizer = tokenizer         \n",
        "        self.input_length = input_length\n",
        "  \n",
        "    def __len__(self):\n",
        "        return len(self.pandas_df)\n",
        "    \n",
        "    def clean_text(self, text):\n",
        "        text = text.replace('\\n','')\n",
        "        text = text.replace('``', '')\n",
        "        text = text.replace('\"', '')\n",
        "        \n",
        "        return text\n",
        "    \n",
        "    def convert_to_features(self, example_batch):\n",
        "        sentence_1 = self.clean_text(example_batch['raw_title'] + example_batch['raw_abstract'])  \n",
        "        source = self.tokenizer.batch_encode_plus([sentence_1], \n",
        "                                                  max_length=self.input_length,\n",
        "                                                  padding='max_length',\n",
        "                                                  truncation=True,\n",
        "                                                  return_tensors=\"pt\")\n",
        "        \n",
        "        return source\n",
        "  \n",
        "    def __getitem__(self, index):\n",
        "        if torch.is_tensor(index):\n",
        "            index = index.tolist()\n",
        "\n",
        "        num_classes = len(tags_list)\n",
        "        source = self.convert_to_features(self.pandas_df.iloc[index])\n",
        "        \n",
        "        source_ids = source[\"input_ids\"].squeeze()\n",
        "        src_mask    = source[\"attention_mask\"].squeeze()\n",
        "        tags = self.pandas_df.iloc[index]['tags']\n",
        "        indices = []\n",
        "        for i in range(len(tags_list)):\n",
        "            if tags_list[i] in tags:\n",
        "                indices.append(i)\n",
        "        targets = torch.nn.functional.one_hot(torch.tensor(indices, dtype = torch.int64),\n",
        "                                              num_classes = len(tags_list))\n",
        "\n",
        "        return {\"input_ids\": source_ids, \"labels\": targets}"
      ],
      "execution_count": 110,
      "outputs": []
    },
    {
      "cell_type": "code",
      "metadata": {
        "id": "_suHQYMMcDK9"
      },
      "source": [
        "# num_classes = len(tags_list)\n",
        "\n",
        "# loss_fn = torch.nn.BCELoss()\n",
        "\n",
        "# outputs_before_sigmoid = torch.randn(batch_size, num_classes)\n",
        "# sigmoid_outputs = torch.sigmoid(outputs_before_sigmoid)\n",
        "# target_classes = torch.randint(0, 2, (batch_size, num_classes))\n",
        "\n",
        "# loss = loss_fn(sigmoid_outputs, target_classes)\n",
        "\n",
        "# # alternatively, use BCE with logits, on outputs before sigmoid.\n",
        "# loss_fn_2 = torch.nn.BCEWithLogitsLoss()\n",
        "# loss2 = loss_fn_2(outputs_before_sigmoid, target_classes)\n",
        "# assert loss == loss2"
      ],
      "execution_count": 88,
      "outputs": []
    },
    {
      "cell_type": "markdown",
      "metadata": {
        "id": "545PP3o8IrJV"
      },
      "source": [
        "## Fine-tuning the model"
      ]
    },
    {
      "cell_type": "code",
      "metadata": {
        "id": "TlqNaB8jIrJW"
      },
      "source": [
        "from transformers import AutoModelForSequenceClassification, TrainingArguments, Trainer"
      ],
      "execution_count": 94,
      "outputs": []
    },
    {
      "cell_type": "code",
      "metadata": {
        "id": "Bliy8zgjIrJY"
      },
      "source": [
        "args = TrainingArguments(\n",
        "    \"test_citation\", ## output dir\n",
        "    evaluation_strategy = \"epoch\",\n",
        "    learning_rate = 2e-5,\n",
        "    per_device_train_batch_size = batch_size,\n",
        "    per_device_eval_batch_size = batch_size,\n",
        "    num_train_epochs = 5,\n",
        "    weight_decay = 0.01,\n",
        "    load_best_model_at_end = True,\n",
        ")"
      ],
      "execution_count": 95,
      "outputs": []
    },
    {
      "cell_type": "code",
      "metadata": {
        "id": "UmvbnJ9JIrJd"
      },
      "source": [
        "import torch.nn.functional as F\n",
        "\n",
        "def compute_metrics(eval_pred):\n",
        "    predictions, labels = eval_pred\n",
        "    return F.cosine_similarity(predictions.squeeze(), labels.squeeze(), dim=-1)"
      ],
      "execution_count": 105,
      "outputs": []
    },
    {
      "cell_type": "code",
      "metadata": {
        "id": "DZwo62X8rO8g"
      },
      "source": [
        "class DistilbertFineTuner(pl.LightningModule):\n",
        "    def __init__(self, hparams):\n",
        "        super(DistilbertFineTuner, self).__init__()\n",
        "        self.save_hyperparameters(hparams)\n",
        "        self.hparams = hparams\n",
        "        self.model = AutoModelForSequenceClassification.from_pretrained(self.hparams.tokenizer_name_or_path, num_labels = len(tags_list))\n",
        "        self.tokenizer = AutoTokenizer.from_pretrained(self.hparams.tokenizer_name_or_path)\n",
        "        self.model_dir = self.hparams.model_dir\n",
        "        \n",
        "    def forward(self, input_ids, attention_mask, labels):\n",
        "        return self.model(\n",
        "            input_ids = input_ids,\n",
        "            attention_mask = attention_mask,\n",
        "            decoder_attention_mask = decoder_attention_mask,\n",
        "            labels = labels,\n",
        "            )\n",
        "        \n",
        "    def _step(self, batch):\n",
        "        labels = batch['labels']\n",
        "        ## set padding token label to = -100 so that it is ignored\n",
        "        labels[labels[:, :] == self.tokenizer.pad_token_id] = -100\n",
        "        outputs = self.forward(\n",
        "            input_ids = batch['input_ids'],\n",
        "            labels = labels\n",
        "        )\n",
        "        loss = outputs[0]\n",
        "        return loss\n",
        "\n",
        "    def training_step(self, batch, batch_idx):\n",
        "        loss = self._step(batch)\n",
        "        self.log('train_loss', loss, on_step = True, on_epoch = True, \n",
        "                 prog_bar = True, logger = True)\n",
        "        return {\"loss\": loss}\n",
        "\n",
        "    def train_dataloader(self):\n",
        "        train_dataset = ArticlesDataset(train_df, tokenizer, input_length = input_length)\n",
        "        sampler = RandomSampler(train_dataset)\n",
        "\n",
        "        dataloader = DataLoader(train_dataset,\n",
        "                                sampler = sampler,\n",
        "                                batch_size = self.hparams.train_batch_size,\n",
        "                                drop_last = True,\n",
        "                                num_workers = 2)\n",
        "        return dataloader\n",
        "\n",
        "    def val_dataloader(self):\n",
        "        validation_dataset = ArticlesDataset(validation_df, tokenizer, input_length = input_length)\n",
        "        sampler = RandomSampler(validation_dataset)\n",
        "\n",
        "        return DataLoader(validation_dataset,\n",
        "                          batch_size = self.hparams.eval_batch_size,\n",
        "                          sampler = sampler,\n",
        "                          num_workers = 2)\n",
        "    \n",
        "\n",
        "    def configure_optimizers(self):\n",
        "        ## Set bias decay to zero\n",
        "        no_decay = [\"bias\", \"LayerNorm.weight\"]\n",
        "        optimizer_grouped_parameters = [\n",
        "            {\n",
        "                \"params\": [p for n, p in self.model.named_parameters() if not any(nd in n for nd in no_decay)],\n",
        "                \"weight_decay\": self.hparams.weight_decay,\n",
        "            },\n",
        "            {\n",
        "                \"params\": [p for n, p in self.model.named_parameters() if any(nd in n for nd in no_decay)],\n",
        "                \"weight_decay\": 0.0,\n",
        "            },]\n",
        "        optimizer = AdamW(optimizer_grouped_parameters, lr = self.hparams.learning_rate)\n",
        "        # decreasing learning rate (linear) after increasing in num_warmup_steps\n",
        "        scheduler = get_linear_schedule_with_warmup(\n",
        "            optimizer = optimizer,\n",
        "            num_warmup_steps = self.hparams.warmup_steps,\n",
        "            num_training_steps = self.hparams.training_steps\n",
        "        )\n",
        "        self.lr_scheduler = scheduler\n",
        "        self.log('configured optimizer: ', optimizer)\n",
        "        return optimizer"
      ],
      "execution_count": 111,
      "outputs": []
    },
    {
      "cell_type": "code",
      "metadata": {
        "colab": {
          "base_uri": "https://localhost:8080/"
        },
        "id": "d0WWmkX9s59N",
        "outputId": "8f8983fd-aae0-4475-c347-b41a7ac19dd5"
      },
      "source": [
        "saved_models_path = '/content/drive/MyDrive/Colab Notebooks/research paper/saved_models'\n",
        "args_dict = dict(\n",
        "    model_dir               = saved_models_path, # path to save the checkpoints\n",
        "    model_name_or_path      = 't5-base',\n",
        "    tokenizer_name_or_path  = 't5-base',\n",
        "    learning_rate           = 1e-5,\n",
        "    weight_decay            = 0.0,\n",
        "    adam_epsilon            = 1e-8,\n",
        "    warmup_steps            = 0,\n",
        "    train_batch_size        = 16,\n",
        "    eval_batch_size         = 16,\n",
        "    num_train_epochs        = 2,\n",
        "    accumulate_grad_batches = 10,\n",
        "    training_steps          = 10000,\n",
        "    # training_steps          = 10,\n",
        "    n_gpu                   = 1,\n",
        "    resume_from_checkpoint  = None, ## USE THIS!!\n",
        "    val_check_interval      = 0.5, \n",
        "    early_stop_callback     = False,\n",
        "    num_workers             = 0,\n",
        "    fp_16                   = False, # if you want to enable 16-bit training then install apex and set this to true\n",
        "    opt_level               = 'O1', # you can find out more on optimisation levels here https://nvidia.github.io/apex/amp.html#opt-levels-and-properties\n",
        "    max_grad_norm           = 1.0, # if you enable 16-bit training then set this to a sensible value, 0.5 is a good default\n",
        ")\n",
        "args = argparse.Namespace(**args_dict)\n",
        "print(args)\n",
        "\n",
        "logger = TensorBoardLogger(\"tb_logs\", version = 1, name = 't5_trivia')\n"
      ],
      "execution_count": 112,
      "outputs": [
        {
          "output_type": "stream",
          "text": [
            "Namespace(accumulate_grad_batches=10, adam_epsilon=1e-08, early_stop_callback=False, eval_batch_size=16, fp_16=False, learning_rate=1e-05, max_grad_norm=1.0, model_dir='/content/drive/MyDrive/Colab Notebooks/research paper/saved_models', model_name_or_path='t5-base', n_gpu=1, num_train_epochs=2, num_workers=0, opt_level='O1', resume_from_checkpoint=None, tokenizer_name_or_path='t5-base', train_batch_size=16, training_steps=10000, val_check_interval=0.5, warmup_steps=0, weight_decay=0.0)\n"
          ],
          "name": "stdout"
        }
      ]
    },
    {
      "cell_type": "code",
      "metadata": {
        "id": "imY1oC3SIrJf"
      },
      "source": [
        "model = DistilbertFineTuner(\n",
        "    args\n",
        ")"
      ],
      "execution_count": 108,
      "outputs": []
    },
    {
      "cell_type": "code",
      "metadata": {
        "id": "llgssX9tlbBw"
      },
      "source": [
        "dataset = load_dataset(\"glue\", actual_task)"
      ],
      "execution_count": null,
      "outputs": []
    }
  ]
}